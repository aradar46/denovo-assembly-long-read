{
 "cells": [
  {
   "cell_type": "code",
   "execution_count": null,
   "metadata": {},
   "outputs": [],
   "source": [
    "! fastqc  ../data/SRR13577846.fastq.gz -o 1-QC/\n",
    "! firefox 1-QC/SRR13577846_fastqc.html"
   ]
  },
  {
   "cell_type": "code",
   "execution_count": null,
   "metadata": {},
   "outputs": [],
   "source": [
    "!../hifiasm/hifiasm -o 2_assembly/SRR13577846 -t 5 ../data/SRR13577846.fastq.gz\n",
    "# M::main] Real time: 1602.548 sec; CPU: 7809.897 sec; Peak RSS: 13.164 GB"
   ]
  },
  {
   "cell_type": "code",
   "execution_count": 9,
   "metadata": {},
   "outputs": [],
   "source": [
    "! awk '/^S/{print \">\"$2;print$3}' 2_assembly/SRR13577846.bp.p_ctg.gfa > 2_assembly/SRR13577846.fa"
   ]
  },
  {
   "cell_type": "code",
   "execution_count": null,
   "metadata": {},
   "outputs": [],
   "source": [
    "# Run Quast on the assembly\n",
    "! quast -r ../data/ref.fna 2_assembly/SRR13577846.fa -o 3_QUAST/\n",
    "!firefox 3_QUAST/results_2023_02_22_23_06_28/icarus.html"
   ]
  },
  {
   "cell_type": "code",
   "execution_count": null,
   "metadata": {},
   "outputs": [],
   "source": [
    "# Run BUSCO on the assembly\n",
    "! busco -m genome -i 2_assembly/SRR13577846.fa -o 4_BUSCO -l saccharomycetes_odb10 -f"
   ]
  }
 ],
 "metadata": {
  "kernelspec": {
   "display_name": "Python 3",
   "language": "python",
   "name": "python3"
  },
  "language_info": {
   "codemirror_mode": {
    "name": "ipython",
    "version": 3
   },
   "file_extension": ".py",
   "mimetype": "text/x-python",
   "name": "python",
   "nbconvert_exporter": "python",
   "pygments_lexer": "ipython3",
   "version": "3.10.6"
  },
  "orig_nbformat": 4,
  "vscode": {
   "interpreter": {
    "hash": "916dbcbb3f70747c44a77c7bcd40155683ae19c65e1c03b4aa3499c5328201f1"
   }
  }
 },
 "nbformat": 4,
 "nbformat_minor": 2
}
