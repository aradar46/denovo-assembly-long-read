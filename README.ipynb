{
 "cells": [
  {
   "cell_type": "code",
   "execution_count": 1,
   "metadata": {},
   "outputs": [
    {
     "name": "stdout",
     "output_type": "stream",
     "text": [
      "denovoAssembly_exercise.pdf  README.ipynb\n",
      "On branch master\n",
      "\n",
      "No commits yet\n",
      "\n",
      "Untracked files:\n",
      "  (use \"git add <file>...\" to include in what will be committed)\n",
      "\t\u001b[31mREADME.ipynb\u001b[m\n",
      "\t\u001b[31mdenovoAssembly_exercise.pdf\u001b[m\n",
      "\n",
      "nothing added to commit but untracked files present (use \"git add\" to track)\n"
     ]
    }
   ],
   "source": [
    "! ls\n",
    "! git status"
   ]
  },
  {
   "attachments": {},
   "cell_type": "markdown",
   "metadata": {},
   "source": [
    "**Data**\n",
    "\n",
    "I used the filtered and clipped version of fastq file for the analysis. \n",
    "The dataset is a HiFi Pacbio reads from the yeast Saccharomyces cerevisiae. The link to the file is given below:\n",
    "\n",
    "https://trace.ncbi.nlm.nih.gov/Traces/?view=run_browser&acc=SRR13577846&display=download"
   ]
  },
  {
   "attachments": {},
   "cell_type": "markdown",
   "metadata": {},
   "source": [
    "**Quality Control**\n",
    "\n",
    "sofware: FastQC v0.11.9\n",
    "\n"
   ]
  },
  {
   "cell_type": "code",
   "execution_count": 5,
   "metadata": {},
   "outputs": [
    {
     "name": "stdout",
     "output_type": "stream",
     "text": [
      "Started analysis of SRR13577846.fastq.gz\n",
      "Approx 5% complete for SRR13577846.fastq.gz\n",
      "Approx 10% complete for SRR13577846.fastq.gz\n",
      "Approx 15% complete for SRR13577846.fastq.gz\n",
      "Approx 20% complete for SRR13577846.fastq.gz\n",
      "Approx 25% complete for SRR13577846.fastq.gz\n",
      "Approx 30% complete for SRR13577846.fastq.gz\n",
      "Approx 35% complete for SRR13577846.fastq.gz\n",
      "Approx 40% complete for SRR13577846.fastq.gz\n",
      "Approx 45% complete for SRR13577846.fastq.gz\n",
      "Approx 50% complete for SRR13577846.fastq.gz\n",
      "Approx 55% complete for SRR13577846.fastq.gz\n",
      "Approx 60% complete for SRR13577846.fastq.gz\n",
      "Approx 65% complete for SRR13577846.fastq.gz\n",
      "Approx 70% complete for SRR13577846.fastq.gz\n",
      "Approx 75% complete for SRR13577846.fastq.gz\n",
      "Approx 80% complete for SRR13577846.fastq.gz\n",
      "Approx 85% complete for SRR13577846.fastq.gz\n",
      "Approx 90% complete for SRR13577846.fastq.gz\n",
      "Approx 95% complete for SRR13577846.fastq.gz\n",
      "Analysis complete for SRR13577846.fastq.gz\n"
     ]
    }
   ],
   "source": [
    "! fastqc  data/SRR13577846.fastq.gz -o 1-QC/\n"
   ]
  },
  {
   "cell_type": "code",
   "execution_count": 6,
   "metadata": {},
   "outputs": [],
   "source": [
    "! firefox 1-QC/SRR13577846_fastqc.html"
   ]
  },
  {
   "attachments": {},
   "cell_type": "markdown",
   "metadata": {},
   "source": [
    "**Perform de novo assembly using Hifiasm**\n"
   ]
  },
  {
   "cell_type": "code",
   "execution_count": 1,
   "metadata": {},
   "outputs": [
    {
     "name": "stdout",
     "output_type": "stream",
     "text": [
      "^C\n"
     ]
    }
   ],
   "source": [
    "! time ../hifiasm/hifiasm -o 2_assembly/hifiasm_assembly.asm -t 8 data/SRR13577846.fastq.gz\n",
    "# [M::main] Real time: 952.481 sec; CPU: 8908.109 sec; Peak RSS: 16.694 GB\n",
    "\n"
   ]
  },
  {
   "attachments": {},
   "cell_type": "markdown",
   "metadata": {},
   "source": [
    "**Perform quality assessment using Quast and BUSCO**\n"
   ]
  },
  {
   "cell_type": "code",
   "execution_count": null,
   "metadata": {},
   "outputs": [],
   "source": [
    "# Run Quast on the assembly\n",
    "quast.py -o 3_QUAST 2_assembly/hifiasm_assembly.asm\n",
    "\n",
    "bash\n",
    "Copy code\n",
    "busco_download_dataset -o busco_downloads -m genome -sp saccharomyces_cerevisiae\n",
    "This will download the dataset to a directory called \"busco_downloads\". Then, we create a directory for the BUSCO results:\n",
    "\n",
    "bash\n",
    "Copy code\n",
    "mkdir BUSCO\n",
    "Then, we can run BUSCO with the following command:"
   ]
  },
  {
   "cell_type": "code",
   "execution_count": null,
   "metadata": {},
   "outputs": [],
   "source": [
    "\n",
    "# Run BUSCO on the assembly\n",
    "busco -i hifiasm_assembly/asm.fasta -o busco -m genome -l saccharomycetales_odb10 -c 10"
   ]
  }
 ],
 "metadata": {
  "kernelspec": {
   "display_name": "Python 3",
   "language": "python",
   "name": "python3"
  },
  "language_info": {
   "codemirror_mode": {
    "name": "ipython",
    "version": 3
   },
   "file_extension": ".py",
   "mimetype": "text/x-python",
   "name": "python",
   "nbconvert_exporter": "python",
   "pygments_lexer": "ipython3",
   "version": "3.10.9"
  },
  "orig_nbformat": 4,
  "vscode": {
   "interpreter": {
    "hash": "e7370f93d1d0cde622a1f8e1c04877d8463912d04d973331ad4851f04de6915a"
   }
  }
 },
 "nbformat": 4,
 "nbformat_minor": 2
}
